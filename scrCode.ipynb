{
 "cells": [
  {
   "cell_type": "code",
   "execution_count": null,
   "metadata": {},
   "outputs": [],
   "source": [
    "from selenium import webdriver\n",
    "from selenium.webdriver.common.by import By\n",
    "from selenium.webdriver.support.ui import WebDriverWait\n",
    "from selenium.webdriver.support import expected_conditions as EC\n",
    "import time\n",
    "from selenium.common.exceptions import TimeoutException"
   ]
  },
  {
   "cell_type": "code",
   "execution_count": 3,
   "metadata": {},
   "outputs": [],
   "source": [
    "url = \"https://shows.cityline.com/\"\n",
    "\n",
    "# driver = webdriver.Chrome()\n",
    "driver = webdriver.Firefox()\n",
    "\n",
    "driver.get(url)\n",
    "\n",
    "wait = WebDriverWait(driver, 20) \n",
    "\n",
    "element = wait.until(EC.element_to_be_clickable((By.CSS_SELECTOR, \"body > main > section:nth-child(11)\")))\n",
    "element.click()\n",
    "\n",
    "wait = WebDriverWait(driver, 20) \n",
    "element = wait.until(EC.element_to_be_clickable((By.ID, \"buyTicketBtn\")))\n",
    "element.click()"
   ]
  },
  {
   "cell_type": "markdown",
   "metadata": {},
   "source": [
    "Test Enent"
   ]
  },
  {
   "cell_type": "code",
   "execution_count": null,
   "metadata": {},
   "outputs": [],
   "source": [
    "url = \"https://shows.cityline.com/tc/2024/lanyabeautifulblur.html\"\n",
    "driver = webdriver.Firefox()\n",
    "\n",
    "driver.get(url)\n",
    "\n",
    "wait = WebDriverWait(driver, 20) \n",
    "element = wait.until(EC.element_to_be_clickable((By.ID, \"buyTicketBtn\")))\n",
    "element.click()\n"
   ]
  }
 ],
 "metadata": {
  "kernelspec": {
   "display_name": "env",
   "language": "python",
   "name": "python3"
  },
  "language_info": {
   "codemirror_mode": {
    "name": "ipython",
    "version": 3
   },
   "file_extension": ".py",
   "mimetype": "text/x-python",
   "name": "python",
   "nbconvert_exporter": "python",
   "pygments_lexer": "ipython3",
   "version": "3.12.1"
  }
 },
 "nbformat": 4,
 "nbformat_minor": 2
}
